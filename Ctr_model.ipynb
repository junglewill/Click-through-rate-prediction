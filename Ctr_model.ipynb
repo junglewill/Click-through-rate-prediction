{
 "cells": [
  {
   "cell_type": "code",
   "execution_count": 1,
   "id": "grand-scanner",
   "metadata": {},
   "outputs": [],
   "source": [
    "import numpy as np\n",
    "from numpy.core.fromnumeric import _all_dispatcher\n",
    "import pandas as pd\n",
    "import joblib\n",
    "np.random.seed(2021)"
   ]
  },
  {
   "cell_type": "code",
   "execution_count": 11,
   "id": "hired-difficulty",
   "metadata": {},
   "outputs": [
    {
     "name": "stdout",
     "output_type": "stream",
     "text": [
      "loading train.gz...\n"
     ]
    }
   ],
   "source": [
    "##########################################################\n",
    "######### training code (without any validation) #########\n",
    "\n",
    "# load data\n",
    "print('loading train.gz...')\n",
    "# use only a subset of rows - you should use all rows eventually\n",
    "df_train = pd.read_csv(\"train.gz\", compression='gzip', nrows=20000, header='infer')\n",
    "y_train = df_train['click']\n",
    "# discard some columns\n",
    "unused_cols = [\"id\", 'site_id', 'app_id']\n",
    "df_train.drop(unused_cols, axis=1, inplace=True)"
   ]
  },
  {
   "cell_type": "code",
   "execution_count": 12,
   "id": "democratic-acting",
   "metadata": {},
   "outputs": [],
   "source": [
    "# create a copy to prevent from modifying the original dataset\n",
    "df_copy = df_train.copy()"
   ]
  },
  {
   "cell_type": "code",
   "execution_count": 13,
   "id": "verified-recipient",
   "metadata": {},
   "outputs": [],
   "source": [
    "# nunique() shows that the three columns are same across \n",
    "df_copy.drop(['hour', 'app_domain', 'app_category'], axis=1,inplace=True)"
   ]
  },
  {
   "cell_type": "code",
   "execution_count": 14,
   "id": "primary-variation",
   "metadata": {},
   "outputs": [
    {
     "data": {
      "text/plain": [
       "click                   2\n",
       "C1                      3\n",
       "banner_pos              4\n",
       "site_domain           453\n",
       "site_category          14\n",
       "device_id             699\n",
       "device_ip           11574\n",
       "device_model         1324\n",
       "device_type             2\n",
       "device_conn_type        2\n",
       "C14                   238\n",
       "C15                     4\n",
       "C16                     4\n",
       "C17                    93\n",
       "C18                     3\n",
       "C19                    27\n",
       "C20                   104\n",
       "C21                    25\n",
       "dtype: int64"
      ]
     },
     "execution_count": 14,
     "metadata": {},
     "output_type": "execute_result"
    }
   ],
   "source": [
    "df_copy.nunique()"
   ]
  },
  {
   "cell_type": "code",
   "execution_count": null,
   "id": "danish-function",
   "metadata": {},
   "outputs": [],
   "source": []
  },
  {
   "cell_type": "code",
   "execution_count": null,
   "id": "horizontal-indonesia",
   "metadata": {},
   "outputs": [],
   "source": [
    "# embedding (all features are categorical)\n",
    "print('embedding...')\n",
    "from sklearn.feature_extraction import DictVectorizer\n",
    "import pickle\n",
    "\n",
    "try:\n",
    "    with open('X_train_dict.pkl', 'rb') as ff:\n",
    "        X_train_dict = pickle.load(ff)\n",
    "    vectorizer = joblib.load('vectorizer.joblib')\n",
    "    X_train = vectorizer.transform(X_train_dict)\n",
    "    print('saved vectorizer loaded & applied to training set')\n",
    "except:\n",
    "    X_train_dict = list(df_train.drop('click', axis=1).T.to_dict().values())\n",
    "    with open('X_train_dict.pkl', 'wb') as ff:\n",
    "        pickle.dump(X_train_dict, ff)\n",
    "    vectorizer = DictVectorizer(sparse=True)\n",
    "    X_train = vectorizer.fit_transform(X_train_dict) # can only see training dataset\n",
    "    joblib.dump(vectorizer, 'vectorizer.joblib')\n",
    "    print('imported data & built a vectorizer on the training set')\n",
    "\n",
    "n, d = X_train.shape\n",
    "print(\"n = {}, d = {}\".format(n, d)"
   ]
  },
  {
   "cell_type": "code",
   "execution_count": null,
   "id": "uniform-milan",
   "metadata": {},
   "outputs": [],
   "source": [
    "# train\n",
    "from sklearn.linear_model import LogisticRegression\n",
    "print('fit a simple logistic regression with l1 regularization...')\n",
    "clf = LogisticRegression(max_iter=20000, penalty='l1', solver='liblinear', C=1)\n",
    "clf.fit(X_train, y_train)\n",
    "print('...done training')"
   ]
  },
  {
   "cell_type": "code",
   "execution_count": null,
   "id": "eight-porcelain",
   "metadata": {},
   "outputs": [],
   "source": [
    "##########################################################\n",
    "######### testing code ###################################\n",
    "\n",
    "# transform test data as well\n",
    "print('loading and transforming test data...')\n",
    "df_test = pd.read_csv(\"test.gz\", compression='gzip', header='infer')\n",
    "# df_test.set_index('id', inplace=True)\n",
    "unused_cols = ['site_id', 'app_id']\n",
    "df_test.drop(unused_cols, axis=1, inplace=True)\n",
    "\n",
    "try:\n",
    "    with open('X_test_dict.pkl', 'rb') as ff:\n",
    "        X_test_dict = pickle.load('ff')\n",
    "except:\n",
    "    X_test_dict = list(df_test.T.to_dict().values())\n",
    "    with open('X_test_dict.pkl', 'wb') as ff:\n",
    "        pickle.dump(X_test_dict, ff)\n",
    "\n",
    "X_test = vectorizer.transform(X_test_dict)"
   ]
  },
  {
   "cell_type": "code",
   "execution_count": null,
   "id": "hindu-actor",
   "metadata": {},
   "outputs": [],
   "source": [
    "print('predicting and output to csv...')\n",
    "ctr_pred = clf.predict_proba(X_test)[:, 1]\n",
    "# save output: every line is (id, ctr_pred)\n",
    "all_id = df_test['id']\n",
    "df_out = pd.DataFrame({'id': all_id, 'ctr': ctr_pred})\n",
    "df_out.to_csv('Submission.csv', index=False)\n",
    "\n",
    "print('...done')"
   ]
  }
 ],
 "metadata": {
  "kernelspec": {
   "display_name": "Python 3",
   "language": "python",
   "name": "python3"
  },
  "language_info": {
   "codemirror_mode": {
    "name": "ipython",
    "version": 3
   },
   "file_extension": ".py",
   "mimetype": "text/x-python",
   "name": "python",
   "nbconvert_exporter": "python",
   "pygments_lexer": "ipython3",
   "version": "3.8.3"
  }
 },
 "nbformat": 4,
 "nbformat_minor": 5
}
