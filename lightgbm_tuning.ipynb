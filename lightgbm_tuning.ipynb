{
 "cells": [
  {
   "cell_type": "code",
   "execution_count": null,
   "id": "expensive-buffer",
   "metadata": {},
   "outputs": [],
   "source": [
    "import numpy as np\n",
    "from numpy.core.fromnumeric import _all_dispatcher\n",
    "import pandas as pd\n",
    "import joblib\n",
    "np.random.seed(2021)\n",
    "import warnings\n",
    "warnings.filterwarnings('ignore')"
   ]
  },
  {
   "cell_type": "code",
   "execution_count": null,
   "id": "otherwise-encounter",
   "metadata": {},
   "outputs": [],
   "source": [
    "df = pd.read_csv(\"train_modified.gz\", compression='gzip', header='infer')\n",
    "Y = df['click']"
   ]
  },
  {
   "cell_type": "code",
   "execution_count": null,
   "id": "palestinian-apparatus",
   "metadata": {},
   "outputs": [],
   "source": [
    "# input your bootstrap random_state\n",
    "df_bootstrapped_lgb = df.sample(n=len(df), replace=True, random_state=_)\n",
    "Y_lgb = df_bootstrapped_lgb['click']"
   ]
  },
  {
   "cell_type": "code",
   "execution_count": null,
   "id": "inappropriate-intensity",
   "metadata": {},
   "outputs": [],
   "source": [
    "column_list = ['C1', 'banner_pos', 'device_type', 'device_conn_type', 'C14', 'C15', 'C16', 'C17', 'C18', \n",
    "               'C19', 'C20', 'C21']\n",
    "df_bootstrapped_lgb[column_list] = df_bootstrapped_lgb[column_list].astype('object')"
   ]
  },
  {
   "cell_type": "code",
   "execution_count": null,
   "id": "structured-composer",
   "metadata": {},
   "outputs": [],
   "source": [
    "def convert_obj_to_int(self):\n",
    "    \n",
    "    object_list_columns = self.columns\n",
    "    object_list_dtypes = self.dtypes\n",
    "    new_col_suffix = '_int'\n",
    "    for index in range(0,len(object_list_columns)):\n",
    "        if object_list_dtypes[index] == object :\n",
    "            self[object_list_columns[index]+new_col_suffix] = self[object_list_columns[index]].map( lambda  x: hash(x))\n",
    "            self.drop([object_list_columns[index]],inplace=True,axis=1)\n",
    "    return self\n",
    "\n",
    "df_bootstrapped_lgb = convert_obj_to_int(df_bootstrapped_lgb)"
   ]
  },
  {
   "cell_type": "code",
   "execution_count": null,
   "id": "comprehensive-rochester",
   "metadata": {},
   "outputs": [],
   "source": [
    "from skopt import BayesSearchCV\n",
    "from skopt.space import Real, Categorical, Integer\n",
    "from sklearn.metrics import make_scorer, auc, log_loss, roc_auc_score\n",
    "\n",
    "import lightgbm as lgb\n",
    "\n",
    "lgb_model = lgb.LGBMClassifier(boosting_type='gbdt', objective='binary', metric='binary_logloss')\n",
    "\n",
    "param = {\n",
    "    'max_depth': Integer(3, 10),\n",
    "    'learning_rate': Real(0.01, 0.3),\n",
    "    'feature_fraction': Real(0.2, 0.9, 'uniform'),\n",
    "    'bagging_fraction': Real(0.2, 0.9),\n",
    "    'max_bin': Integer(20, 255, 'uniform'),\n",
    "    'n_estimators': Integer(100, 1000, 'uniform'),\n",
    "    'num_leaves': Integer(24, 80, 'uniform'),\n",
    "    'min_sum_hessian_in_leaf':Integer(0,100, 'uniform'),\n",
    "    'min_data_in_leaf': Integer(20, 100, 'uniform'),\n",
    "    'min_split_gain': Real(0.001, 0.1),\n",
    "    'lambda_l1': Real(1e-8, 10.0),\n",
    "    'lambda_l2': Real(1e-8, 10.0),\n",
    "    'bagging_freq': Integer(1,7, 'uniform')\n",
    "}\n",
    "\n",
    "LogLoss = make_scorer(log_loss, greater_is_better=False, needs_proba=True)\n",
    "\n",
    "# input your random_state\n",
    "opt_l = BayesSearchCV(\n",
    "    lgb_model,\n",
    "    param,\n",
    "    scoring = LogLoss,\n",
    "    n_iter=32,\n",
    "    cv=5,\n",
    "    random_state=_\n",
    ")\n",
    "\n",
    "opt_l.fit(df_bootstrapped_lgb, Y_lgb)"
   ]
  },
  {
   "cell_type": "code",
   "execution_count": null,
   "id": "occupational-brief",
   "metadata": {},
   "outputs": [],
   "source": [
    "opt_l.best_params_"
   ]
  }
 ],
 "metadata": {
  "environment": {
   "name": "common-cpu.m65",
   "type": "gcloud",
   "uri": "gcr.io/deeplearning-platform-release/base-cpu:m65"
  },
  "kernelspec": {
   "display_name": "Python 3",
   "language": "python",
   "name": "python3"
  },
  "language_info": {
   "codemirror_mode": {
    "name": "ipython",
    "version": 3
   },
   "file_extension": ".py",
   "mimetype": "text/x-python",
   "name": "python",
   "nbconvert_exporter": "python",
   "pygments_lexer": "ipython3",
   "version": "3.7.10"
  }
 },
 "nbformat": 4,
 "nbformat_minor": 5
}
