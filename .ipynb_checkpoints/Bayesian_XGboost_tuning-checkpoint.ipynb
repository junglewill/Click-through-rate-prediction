{
 "cells": [
  {
   "cell_type": "code",
   "execution_count": 1,
   "id": "educational-compression",
   "metadata": {},
   "outputs": [],
   "source": [
    "import numpy as np\n",
    "from numpy.core.fromnumeric import _all_dispatcher\n",
    "import pandas as pd\n",
    "import joblib\n",
    "np.random.seed(2021)\n",
    "import warnings\n",
    "warnings.filterwarnings('ignore')"
   ]
  },
  {
   "cell_type": "code",
   "execution_count": null,
   "id": "sublime-equation",
   "metadata": {},
   "outputs": [],
   "source": [
    "df = pd.read_csv(\"train_modified.gz\", compression='gzip', header='infer')\n",
    "Y = df['click']"
   ]
  },
  {
   "cell_type": "code",
   "execution_count": null,
   "id": "swedish-concentrate",
   "metadata": {},
   "outputs": [],
   "source": [
    "# input your bootstrap random_state\n",
    "df_bootstrapped_lgb = df.sample(n=len(df), replace=True, random_state=70)\n",
    "Y_lgb = df_bootstrapped_lgb['click']"
   ]
  },
  {
   "cell_type": "code",
   "execution_count": null,
   "id": "bored-lawyer",
   "metadata": {},
   "outputs": [],
   "source": [
    "column_list = ['C1', 'banner_pos', 'device_type', 'device_conn_type', 'C14', 'C15', 'C16', 'C17', 'C18', \n",
    "               'C19', 'C20', 'C21']\n",
    "df_bootstrapped_lgb[column_list] = df_bootstrapped_lgb[column_list].astype('object')"
   ]
  },
  {
   "cell_type": "code",
   "execution_count": null,
   "id": "limiting-digit",
   "metadata": {},
   "outputs": [],
   "source": [
    "def convert_obj_to_int(self):\n",
    "    \n",
    "    object_list_columns = self.columns\n",
    "    object_list_dtypes = self.dtypes\n",
    "    new_col_suffix = '_int'\n",
    "    for index in range(0,len(object_list_columns)):\n",
    "        if object_list_dtypes[index] == object :\n",
    "            self[object_list_columns[index]+new_col_suffix] = self[object_list_columns[index]].map( lambda  x: hash(x))\n",
    "            self.drop([object_list_columns[index]],inplace=True,axis=1)\n",
    "    return self\n",
    "\n",
    "df_bootstrapped_lgb = convert_obj_to_int(df_bootstrapped_lgb)"
   ]
  },
  {
   "cell_type": "code",
   "execution_count": null,
   "id": "relative-mixture",
   "metadata": {},
   "outputs": [],
   "source": [
    "from xgboost import XGBClassifier\n",
    "from sklearn.metrics import log_loss\n",
    "from skopt import BayesSearchCV\n",
    "from skopt.space import Real, Categorical, Integer\n",
    "from sklearn.metrics import make_scorer\n",
    "\n",
    "xgb_model = XGBClassifier(max_depth=3,learning_rate=0.1, alpha=0, colsample_bytree = 0.5,\n",
    "                     subsample=0.1,n_estimators=100,gamma=0)\n",
    "\n",
    "param = {\n",
    "    'iterations': Integer(10, 400),\n",
    "    'max_depth': Integer(3, 8, 'uniform'),\n",
    "    'learning_rate': Real(0.01, 0.3, 'log-uniform'),\n",
    "    'alpha': Real(0, 10.0, 'uniform'),\n",
    "    'colsample_bytree' : Real(0.5,1.0, 'uniform'),\n",
    "    'subsample': Real(0.1, 1.0, 'uniform'),\n",
    "    'n_estimators': Integer(100, 300, 'uniform'),\n",
    "    'gamma': Real(0, 10.0, 'uniform')\n",
    "}\n",
    "\n",
    "LogLoss = make_scorer(log_loss, greater_is_better=False, needs_proba=True)\n",
    "\n",
    "# log-uniform: understand as search over p = exp(x) by varying x\n",
    "opt_x = BayesSearchCV(\n",
    "    xgb_model,\n",
    "    param,\n",
    "    scoring = LogLoss,\n",
    "    n_iter=40,\n",
    "    cv=5,\n",
    "    random_state=70\n",
    ")\n",
    "\n",
    "# executes bayesian optimization\n",
    "opt_x.fit(df_bootstrapped_lgb, Y_lgb)"
   ]
  }
 ],
 "metadata": {
  "environment": {
   "name": "common-cpu.m65",
   "type": "gcloud",
   "uri": "gcr.io/deeplearning-platform-release/base-cpu:m65"
  },
  "kernelspec": {
   "display_name": "Python 3",
   "language": "python",
   "name": "python3"
  },
  "language_info": {
   "codemirror_mode": {
    "name": "ipython",
    "version": 3
   },
   "file_extension": ".py",
   "mimetype": "text/x-python",
   "name": "python",
   "nbconvert_exporter": "python",
   "pygments_lexer": "ipython3",
   "version": "3.8.3"
  }
 },
 "nbformat": 4,
 "nbformat_minor": 5
}
